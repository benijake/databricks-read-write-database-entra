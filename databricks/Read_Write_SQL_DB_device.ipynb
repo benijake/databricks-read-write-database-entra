{
 "cells": [
  {
   "cell_type": "code",
   "execution_count": 0,
   "metadata": {
    "application/vnd.databricks.v1+cell": {
     "cellMetadata": {
      "byteLimit": 2048000,
      "rowLimit": 10000
     },
     "inputWidgets": {},
     "nuid": "bb365d74-b7dd-4007-8986-4dbd1a79697c",
     "showTitle": false,
     "tableResultSettingsMap": {},
     "title": ""
    }
   },
   "outputs": [],
   "source": [
    "from azure.identity import *\n",
    "credential = DeviceCodeCredential()\n",
    "token = credential.get_token(\"https://database.windows.net/.default\").token\n"
   ]
  },
  {
   "cell_type": "code",
   "execution_count": 0,
   "metadata": {
    "application/vnd.databricks.v1+cell": {
     "cellMetadata": {
      "byteLimit": 2048000,
      "rowLimit": 10000
     },
     "inputWidgets": {},
     "nuid": "e194b604-ac66-4324-a096-00c79af03d7c",
     "showTitle": false,
     "tableResultSettingsMap": {},
     "title": ""
    }
   },
   "outputs": [
    {
     "name": "stdout",
     "output_type": "stream",
     "text": [
      "+-------------+------------+--------------------+----------+\n",
      "|TABLE_CATALOG|TABLE_SCHEMA|          TABLE_NAME|TABLE_TYPE|\n",
      "+-------------+------------+--------------------+----------+\n",
      "|       testdb|         sys|database_firewall...|      VIEW|\n",
      "|       testdb|         dbo|                Test|BASE TABLE|\n",
      "|       testdb|     SalesLT|            Customer|BASE TABLE|\n",
      "|       testdb|     SalesLT|        ProductModel|BASE TABLE|\n",
      "|       testdb|     SalesLT|vProductModelCata...|      VIEW|\n",
      "|       testdb|     SalesLT|  ProductDescription|BASE TABLE|\n",
      "|       testdb|     SalesLT|             Product|BASE TABLE|\n",
      "|       testdb|     SalesLT|ProductModelProdu...|BASE TABLE|\n",
      "|       testdb|     SalesLT|vProductAndDescri...|      VIEW|\n",
      "|       testdb|     SalesLT|     ProductCategory|BASE TABLE|\n",
      "|       testdb|     SalesLT|   vGetAllCategories|      VIEW|\n",
      "|       testdb|         dbo|        BuildVersion|BASE TABLE|\n",
      "|       testdb|         dbo|            ErrorLog|BASE TABLE|\n",
      "|       testdb|     SalesLT|             Address|BASE TABLE|\n",
      "|       testdb|     SalesLT|     CustomerAddress|BASE TABLE|\n",
      "|       testdb|     SalesLT|    SalesOrderDetail|BASE TABLE|\n",
      "|       testdb|     SalesLT|    SalesOrderHeader|BASE TABLE|\n",
      "+-------------+------------+--------------------+----------+\n",
      "\n"
     ]
    }
   ],
   "source": [
    "\n",
    "jdbc_url = \"jdbc:sqlserver://sql-xxxxxxx.database.windows.net:1433;database=testdb\"\n",
    "\n",
    "connection_properties = {\n",
    "    \"accessToken\": token,\n",
    "    \"driver\": \"com.microsoft.sqlserver.jdbc.SQLServerDriver\"\n",
    "}\n",
    "\n",
    "# Read from a table\n",
    "df = spark.read.jdbc(url=jdbc_url, table=\"INFORMATION_SCHEMA.TABLES\", properties=connection_properties)\n",
    "df.show()\n"
   ]
  },
  {
   "cell_type": "code",
   "execution_count": 0,
   "metadata": {
    "application/vnd.databricks.v1+cell": {
     "cellMetadata": {
      "byteLimit": 2048000,
      "rowLimit": 10000
     },
     "inputWidgets": {},
     "nuid": "5d8c7554-1c24-4aa7-8b22-000bab077815",
     "showTitle": false,
     "tableResultSettingsMap": {},
     "title": ""
    }
   },
   "outputs": [],
   "source": [
    "\n",
    "df.write.jdbc(\n",
    "    url=jdbc_url,\n",
    "    table=\"dbo.Test\",\n",
    "    mode=\"overwrite\",# or \"append\"\n",
    "    properties=connection_properties\n",
    ")\n"
   ]
  },
  {
   "cell_type": "code",
   "execution_count": 0,
   "metadata": {
    "application/vnd.databricks.v1+cell": {
     "cellMetadata": {
      "byteLimit": 2048000,
      "rowLimit": 10000
     },
     "inputWidgets": {},
     "nuid": "6e57267a-a575-4769-929d-fc91f6355366",
     "showTitle": false,
     "tableResultSettingsMap": {},
     "title": ""
    }
   },
   "outputs": [
    {
     "name": "stdout",
     "output_type": "stream",
     "text": [
      "+-------------+------------+--------------------+----------+\n",
      "|TABLE_CATALOG|TABLE_SCHEMA|          TABLE_NAME|TABLE_TYPE|\n",
      "+-------------+------------+--------------------+----------+\n",
      "|       testdb|         sys|database_firewall...|      VIEW|\n",
      "|       testdb|         dbo|                Test|BASE TABLE|\n",
      "|       testdb|     SalesLT|            Customer|BASE TABLE|\n",
      "|       testdb|     SalesLT|        ProductModel|BASE TABLE|\n",
      "|       testdb|     SalesLT|vProductModelCata...|      VIEW|\n",
      "|       testdb|     SalesLT|  ProductDescription|BASE TABLE|\n",
      "|       testdb|     SalesLT|             Product|BASE TABLE|\n",
      "|       testdb|     SalesLT|ProductModelProdu...|BASE TABLE|\n",
      "|       testdb|     SalesLT|vProductAndDescri...|      VIEW|\n",
      "|       testdb|     SalesLT|     ProductCategory|BASE TABLE|\n",
      "|       testdb|     SalesLT|   vGetAllCategories|      VIEW|\n",
      "|       testdb|         dbo|        BuildVersion|BASE TABLE|\n",
      "|       testdb|         dbo|            ErrorLog|BASE TABLE|\n",
      "|       testdb|     SalesLT|             Address|BASE TABLE|\n",
      "|       testdb|     SalesLT|     CustomerAddress|BASE TABLE|\n",
      "|       testdb|     SalesLT|    SalesOrderDetail|BASE TABLE|\n",
      "|       testdb|     SalesLT|    SalesOrderHeader|BASE TABLE|\n",
      "+-------------+------------+--------------------+----------+\n",
      "\n"
     ]
    }
   ],
   "source": [
    "\n",
    "df_check = spark.read.jdbc(\n",
    "    url=jdbc_url,\n",
    "    table=\"dbo.Test\",\n",
    "    properties=connection_properties\n",
    ")\n",
    "df_check.show()\n"
   ]
  }
 ],
 "metadata": {
  "application/vnd.databricks.v1+notebook": {
   "computePreferences": {
    "hardware": {
     "accelerator": null,
     "gpuPoolId": null,
     "memory": null
    }
   },
   "dashboards": [],
   "environmentMetadata": {
    "base_environment": "",
    "dependencies": [
     "azure-identity"
    ],
    "environment_version": "2"
   },
   "inputWidgetPreferences": null,
   "language": "python",
   "notebookMetadata": {
    "pythonIndentUnit": 4
   },
   "notebookName": "Read_Write_SQL_DB",
   "widgets": {}
  },
  "language_info": {
   "name": "python"
  }
 },
 "nbformat": 4,
 "nbformat_minor": 0
}
